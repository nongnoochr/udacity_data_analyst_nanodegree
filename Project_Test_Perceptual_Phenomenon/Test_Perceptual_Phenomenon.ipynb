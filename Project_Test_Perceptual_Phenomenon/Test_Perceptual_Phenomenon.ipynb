{
 "cells": [
  {
   "cell_type": "markdown",
   "metadata": {},
   "source": [
    "### Analyzing the Stroop Effect\n",
    "Perform the analysis in the space below. Remember to follow [the instructions](https://docs.google.com/document/d/1-OkpZLjG_kX9J6LIQ5IltsqMzVWjh36QpnP2RYpVdPU/pub?embedded=True) and review the [project rubric](https://review.udacity.com/#!/rubrics/71/view) before submitting. Once you've completed the analysis and write-up, download this file as a PDF or HTML file, upload that PDF/HTML into the workspace here (click on the orange Jupyter icon in the upper left then Upload), then use the Submit Project button at the bottom of this page. This will create a zip file containing both this .ipynb doc and the PDF/HTML doc that will be submitted for your project.\n",
    "\n",
    "\n",
    "(1) What is the independent variable? What is the dependent variable?"
   ]
  },
  {
   "cell_type": "markdown",
   "metadata": {},
   "source": [
    "Answer:\n",
    "\n",
    "Independent variable is the congruency of the colour and text.\n",
    "\n",
    "Dependent variable is duration (time) to recognise the colours or the texts."
   ]
  },
  {
   "cell_type": "markdown",
   "metadata": {},
   "source": [
    "(2) What is an appropriate set of hypotheses for this task? Specify your null and alternative hypotheses, and clearly define any notation used. Justify your choices."
   ]
  },
  {
   "cell_type": "markdown",
   "metadata": {},
   "source": [
    "Answer: \n",
    "\n",
    "Null (H0): A difference between the average time to name the ink colors from the INCONGRUENT words and the average time to name the ink colors from the CONGRUENT words is LESS than or EQUAL to zero.\n",
    "\n",
    "Alternative (H1) : A difference between the average time to name to ink colors from the INCONGRUENT words and the the average time to name the ink colors from the CONGRUENT words is GREATER than zero."
   ]
  },
  {
   "cell_type": "markdown",
   "metadata": {},
   "source": [
    "$$ H_0: \\mu_{incongruent} - \\mu_{congruent} <= 0 $$\n",
    "$$ H_1: \\mu_{incongruent} - \\mu_{congruent} > 0  $$\n",
    "\n",
    "$\\mu_{incongruent}$ is the average time to name the ink colors from the INCONGRUENT words\n",
    "\n",
    "$\\mu_{congruent}$ is the average time to name the ink colors from the CONGRUENT words"
   ]
  },
  {
   "cell_type": "markdown",
   "metadata": {},
   "source": [
    "Before start testing, we will clean up the data first by inspecting some descriptive statistics of the dataset to find any outliers and remove them.\n",
    "\n",
    "Then, since the dataset that we will be using for this hypothesis testing is quite small (the sample size is less than 25), we will use the bootstrapping technique to sample data with replacement and find a difference between the mean values of the INCONGRUENT and CONGRUENT data using the bootstrapped samples and repeat this step many times to create a large enough sample size (Law of Large Numbers - as our sample size increases, the sample mean gets closer to the population mean) to create a sampling distribution of a difference in the mean values of the Incongruent and Congruent data (Central Limit Theorem - with a large enough sample size the sampling distribution of the mean will be normally distributed).\n",
    "\n",
    "We will use this sampling distribution to find a confident interval, and uses a standard deviation value of this sampling distribution to find a p-value. Then, we will use these metrics to draw conclusions for this hypothesis testing (reject or fail to reject the null hypothesis). \n",
    "\n",
    "Source: Lesson 10 - Sampling Distribution and the Central Limit Theorem (Data Analyst Nanodegree Term 1)"
   ]
  },
  {
   "cell_type": "markdown",
   "metadata": {},
   "source": [
    "(3) Report some descriptive statistics regarding this dataset. Include at least one measure of central tendency and at least one measure of variability. The name of the data file is 'stroopdata.csv'."
   ]
  },
  {
   "cell_type": "code",
   "execution_count": 13,
   "metadata": {},
   "outputs": [
    {
     "data": {
      "text/html": [
       "<div>\n",
       "<style>\n",
       "    .dataframe thead tr:only-child th {\n",
       "        text-align: right;\n",
       "    }\n",
       "\n",
       "    .dataframe thead th {\n",
       "        text-align: left;\n",
       "    }\n",
       "\n",
       "    .dataframe tbody tr th {\n",
       "        vertical-align: top;\n",
       "    }\n",
       "</style>\n",
       "<table border=\"1\" class=\"dataframe\">\n",
       "  <thead>\n",
       "    <tr style=\"text-align: right;\">\n",
       "      <th></th>\n",
       "      <th>Congruent</th>\n",
       "      <th>Incongruent</th>\n",
       "    </tr>\n",
       "  </thead>\n",
       "  <tbody>\n",
       "    <tr>\n",
       "      <th>count</th>\n",
       "      <td>24.000000</td>\n",
       "      <td>24.000000</td>\n",
       "    </tr>\n",
       "    <tr>\n",
       "      <th>mean</th>\n",
       "      <td>14.051125</td>\n",
       "      <td>22.015917</td>\n",
       "    </tr>\n",
       "    <tr>\n",
       "      <th>std</th>\n",
       "      <td>3.559358</td>\n",
       "      <td>4.797057</td>\n",
       "    </tr>\n",
       "    <tr>\n",
       "      <th>min</th>\n",
       "      <td>8.630000</td>\n",
       "      <td>15.687000</td>\n",
       "    </tr>\n",
       "    <tr>\n",
       "      <th>25%</th>\n",
       "      <td>11.895250</td>\n",
       "      <td>18.716750</td>\n",
       "    </tr>\n",
       "    <tr>\n",
       "      <th>50%</th>\n",
       "      <td>14.356500</td>\n",
       "      <td>21.017500</td>\n",
       "    </tr>\n",
       "    <tr>\n",
       "      <th>75%</th>\n",
       "      <td>16.200750</td>\n",
       "      <td>24.051500</td>\n",
       "    </tr>\n",
       "    <tr>\n",
       "      <th>max</th>\n",
       "      <td>22.328000</td>\n",
       "      <td>35.255000</td>\n",
       "    </tr>\n",
       "  </tbody>\n",
       "</table>\n",
       "</div>"
      ],
      "text/plain": [
       "       Congruent  Incongruent\n",
       "count  24.000000    24.000000\n",
       "mean   14.051125    22.015917\n",
       "std     3.559358     4.797057\n",
       "min     8.630000    15.687000\n",
       "25%    11.895250    18.716750\n",
       "50%    14.356500    21.017500\n",
       "75%    16.200750    24.051500\n",
       "max    22.328000    35.255000"
      ]
     },
     "execution_count": 13,
     "metadata": {},
     "output_type": "execute_result"
    }
   ],
   "source": [
    "# Perform the analysis here\n",
    "import pandas as pd\n",
    "import matplotlib.pyplot as plt\n",
    "\n",
    "% matplotlib inline\n",
    "\n",
    "df = pd.read_csv('stroopdata.csv')\n",
    "df.describe()"
   ]
  },
  {
   "cell_type": "code",
   "execution_count": 14,
   "metadata": {},
   "outputs": [
    {
     "data": {
      "text/plain": [
       "Congruent      14.3565\n",
       "Incongruent    21.0175\n",
       "dtype: float64"
      ]
     },
     "execution_count": 14,
     "metadata": {},
     "output_type": "execute_result"
    }
   ],
   "source": [
    "# Find Median\n",
    "df.median()"
   ]
  },
  {
   "cell_type": "markdown",
   "metadata": {},
   "source": [
    "Answer:\n",
    "\n",
    "Measure of central tendency:\n",
    "\n",
    "Average time to name ink colors from the \"congruent\" words is 14.051125 seconds\n",
    "Average time to name ink colors from the \"incongruent\" words is 22.015917 seconds\n",
    "\n",
    "Average time to name ink colors from the \"congruent\" words is 14.3565 seconds\n",
    "Average time to name ink colors from the \"incongruent\" words is 21.0175 seconds\n",
    "            \n",
    "Measure of variability: \n",
    "\n",
    "Standard deviation of time to name ink colors from the \"congruent\" words is 3.559358 seconds\n",
    "Standard deviation of time to name ink colors from the \"incongruent\" words is 4.797057 seconds"
   ]
  },
  {
   "cell_type": "markdown",
   "metadata": {},
   "source": [
    "(4) Provide one or two visualizations that show the distribution of the sample data. Write one or two sentences noting what you observe about the plot or plots."
   ]
  },
  {
   "cell_type": "code",
   "execution_count": 15,
   "metadata": {},
   "outputs": [
    {
     "data": {
      "image/png": "[encoded data removed]",
      "text/plain": [
       "<matplotlib.figure.Figure at 0x7f1ce9ced5f8>"
      ]
     },
     "metadata": {},
     "output_type": "display_data"
    }
   ],
   "source": [
    "# Build the visualizations here\n",
    "\n",
    "# Distribution of the sample data\n",
    "plt.hist(df['Congruent'], alpha = 0.5);\n",
    "plt.hist(df['Incongruent'], alpha = 0.5); \n",
    "plt.title('Distribution of the sample data');"
   ]
  },
  {
   "cell_type": "code",
   "execution_count": 16,
   "metadata": {},
   "outputs": [
    {
     "data": {
      "image/png": "[encoded data removed]",
      "text/plain": [
       "<matplotlib.figure.Figure at 0x7f1ce9d390f0>"
      ]
     },
     "metadata": {},
     "output_type": "display_data"
    }
   ],
   "source": [
    "# Box plot of the sample data\n",
    "df.boxplot();\n",
    "plt.suptitle('Box plot of the sample data');"
   ]
  },
  {
   "cell_type": "markdown",
   "metadata": {},
   "source": [
    "Answer:\n",
    "\n",
    "The first plot shows a distribution of the sample data and we can see that the shape of the distribution of the Congruent and Incongruent data adhere to the normal distribution and, more specifically, the plot of the Incongruent data shows outliers in the sample data.\n",
    "\n",
    "The second plot shows a box of the sample data and it confirms what we see in the first plot where outliers are identified in the Incongruent data.\n"
   ]
  },
  {
   "cell_type": "markdown",
   "metadata": {},
   "source": [
    "(5)  Now, perform the statistical test and report your results. What is your confidence level or Type I error associated with your test? What is your conclusion regarding the hypotheses you set up? Did the results match up with your expectations? **Hint:**  Think about what is being measured on each individual, and what statistic best captures how an individual reacts in each environment."
   ]
  },
  {
   "cell_type": "code",
   "execution_count": 17,
   "metadata": {},
   "outputs": [
    {
     "data": {
      "image/png": "[encoded data removed]",
      "text/plain": [
       "<matplotlib.figure.Figure at 0x7f1ce9ef5860>"
      ]
     },
     "metadata": {},
     "output_type": "display_data"
    }
   ],
   "source": [
    "# Perform the statistical test here\n",
    "\n",
    "# Remove outliers by removing samples where the Incongruent data is greater than 30\n",
    "df_new = df.query('Incongruent < 30')\n",
    "\n",
    "# Inspect the new box plot\n",
    "df_new.boxplot();"
   ]
  },
  {
   "cell_type": "code",
   "execution_count": 18,
   "metadata": {},
   "outputs": [
    {
     "data": {
      "image/png": "[encoded data removed]",
      "text/plain": [
       "<matplotlib.figure.Figure at 0x7f1ce9df6630>"
      ]
     },
     "metadata": {},
     "output_type": "display_data"
    }
   ],
   "source": [
    "# Distribution of the new sample data\n",
    "plt.hist(df_final['Congruent'], alpha = 0.5);\n",
    "plt.hist(df_final['Incongruent'], alpha = 0.5); \n",
    "plt.title('Distribution of the new sample data');"
   ]
  },
  {
   "cell_type": "code",
   "execution_count": 19,
   "metadata": {},
   "outputs": [
    {
     "data": {
      "text/html": [
       "<div>\n",
       "<style>\n",
       "    .dataframe thead tr:only-child th {\n",
       "        text-align: right;\n",
       "    }\n",
       "\n",
       "    .dataframe thead th {\n",
       "        text-align: left;\n",
       "    }\n",
       "\n",
       "    .dataframe tbody tr th {\n",
       "        vertical-align: top;\n",
       "    }\n",
       "</style>\n",
       "<table border=\"1\" class=\"dataframe\">\n",
       "  <thead>\n",
       "    <tr style=\"text-align: right;\">\n",
       "      <th></th>\n",
       "      <th>Congruent</th>\n",
       "      <th>Incongruent</th>\n",
       "    </tr>\n",
       "  </thead>\n",
       "  <tbody>\n",
       "    <tr>\n",
       "      <th>count</th>\n",
       "      <td>21.000000</td>\n",
       "      <td>21.000000</td>\n",
       "    </tr>\n",
       "    <tr>\n",
       "      <th>mean</th>\n",
       "      <td>13.539524</td>\n",
       "      <td>20.681667</td>\n",
       "    </tr>\n",
       "    <tr>\n",
       "      <th>std</th>\n",
       "      <td>3.141193</td>\n",
       "      <td>2.825932</td>\n",
       "    </tr>\n",
       "    <tr>\n",
       "      <th>min</th>\n",
       "      <td>8.630000</td>\n",
       "      <td>15.687000</td>\n",
       "    </tr>\n",
       "    <tr>\n",
       "      <th>25%</th>\n",
       "      <td>11.344000</td>\n",
       "      <td>18.644000</td>\n",
       "    </tr>\n",
       "    <tr>\n",
       "      <th>50%</th>\n",
       "      <td>14.233000</td>\n",
       "      <td>20.762000</td>\n",
       "    </tr>\n",
       "    <tr>\n",
       "      <th>75%</th>\n",
       "      <td>15.298000</td>\n",
       "      <td>22.158000</td>\n",
       "    </tr>\n",
       "    <tr>\n",
       "      <th>max</th>\n",
       "      <td>19.710000</td>\n",
       "      <td>26.282000</td>\n",
       "    </tr>\n",
       "  </tbody>\n",
       "</table>\n",
       "</div>"
      ],
      "text/plain": [
       "       Congruent  Incongruent\n",
       "count  21.000000    21.000000\n",
       "mean   13.539524    20.681667\n",
       "std     3.141193     2.825932\n",
       "min     8.630000    15.687000\n",
       "25%    11.344000    18.644000\n",
       "50%    14.233000    20.762000\n",
       "75%    15.298000    22.158000\n",
       "max    19.710000    26.282000"
      ]
     },
     "execution_count": 19,
     "metadata": {},
     "output_type": "execute_result"
    },
    {
     "data": {
      "image/png": "[encoded data removed]",
      "text/plain": [
       "<matplotlib.figure.Figure at 0x7f1ce9eefd68>"
      ]
     },
     "metadata": {},
     "output_type": "display_data"
    }
   ],
   "source": [
    "# Looks like we now have an outlier in the Congruent data\n",
    "# Remove the outliers and inspect the box plot again\n",
    "df_final = df_new.query('Congruent < 21')\n",
    "df_final.boxplot();\n",
    "\n",
    "df_final.describe()"
   ]
  },
  {
   "cell_type": "code",
   "execution_count": 20,
   "metadata": {},
   "outputs": [],
   "source": [
    "lenData = df_final.shape[0];\n",
    "\n",
    "diffs = [];\n",
    "\n",
    "for _ in range(10000):\n",
    "    bootsample = df_final.sample(lenData, replace=True)\n",
    "    mean_incongruent = bootsample['Incongruent'].mean()\n",
    "    mean_congruent = bootsample['Congruent'].mean()\n",
    "    \n",
    "    diffs.append(mean_incongruent - mean_congruent)\n",
    "    \n"
   ]
  },
  {
   "cell_type": "code",
   "execution_count": 21,
   "metadata": {},
   "outputs": [
    {
     "name": "stdout",
     "output_type": "stream",
     "text": [
      "99% Confidence interval: (5.3062552380952397, 8.9049716666666558)\n"
     ]
    },
    {
     "data": {
      "image/png": "[encoded data removed]",
      "text/plain": [
       "<matplotlib.figure.Figure at 0x7f1ce9e7bac8>"
      ]
     },
     "metadata": {},
     "output_type": "display_data"
    }
   ],
   "source": [
    "import numpy as np\n",
    "\n",
    "conf_interval = np.percentile(diffs, 0.5), np.percentile(diffs, 99.5)\n",
    "print('99% Confidence interval: {}'.format(conf_interval))\n",
    "\n",
    "plt.hist(diffs);\n",
    "plt.title('Sampling distribution of the differences in the mean value of Incongruent and Congruent data');\n"
   ]
  },
  {
   "cell_type": "code",
   "execution_count": 22,
   "metadata": {},
   "outputs": [],
   "source": [
    "# Generage null values to generate the normal distribution with the std value of diffs\n",
    "null_vals = np.random.normal(0, np.std(diffs), 10000);"
   ]
  },
  {
   "cell_type": "code",
   "execution_count": 23,
   "metadata": {},
   "outputs": [
    {
     "data": {
      "image/png": "[encoded data removed]",
      "text/plain": [
       "<matplotlib.figure.Figure at 0x7f1ce9c9cef0>"
      ]
     },
     "metadata": {},
     "output_type": "display_data"
    }
   ],
   "source": [
    "# Find a difference between mean_Incongruent and mean_Congruent\n",
    "new_diff_sample_mean = df_final['Incongruent'].mean() - df_final['Congruent'].mean()\n",
    "\n",
    "plt.hist(null_vals);\n",
    "plt.title('Distribution of the null hypothesis');\n",
    "\n",
    "plt.axvline(x=new_diff_sample_mean, color='r', linewidth=2);"
   ]
  },
  {
   "cell_type": "code",
   "execution_count": 24,
   "metadata": {},
   "outputs": [
    {
     "data": {
      "text/plain": [
       "0.0"
      ]
     },
     "execution_count": 24,
     "metadata": {},
     "output_type": "execute_result"
    }
   ],
   "source": [
    "# Find the p-value \n",
    "# H0: mu_Incongruent - mu_Congruent <= 0\n",
    "\n",
    "(new_diff_sample_mean <= null_vals).mean()"
   ]
  },
  {
   "cell_type": "markdown",
   "metadata": {},
   "source": [
    "Answer:\n",
    "\n",
    "$$ H_0: \\mu_{incongruent} - \\mu_{congruent} <= 0 $$\n",
    "$$ H_1: \\mu_{incongruent} - \\mu_{congruent} > 0  $$\n",
    "\n",
    "\n",
    "\n",
    "Given that the confidence interval is 99%, \n",
    "\n",
    "since the confidence interval of a difference between the average time to name the ink colors from the INCONGRUENT words and the average time to name the ink colors from the CONGRUENT words is (5.3071, 8.8825) and the p-value is 0,\n",
    "\n",
    "we have evidence of the average time to name the ink colors from the INCONGRUENT words is GREATER than the average time to name the ink colors from the CONGRUENT words.\n",
    "(Null hypothesis is rejected)\n",
    "\n",
    "This result matches my expectation that the time it takes to name the ink colors from the INCONGRUENT words is higher."
   ]
  },
  {
   "cell_type": "markdown",
   "metadata": {},
   "source": [
    "(6) Optional: What do you think is responsible for the effects observed? Can you think of an alternative or similar task that would result in a similar effect? Some research about the problem will be helpful for thinking about these two questions!"
   ]
  },
  {
   "cell_type": "markdown",
   "metadata": {},
   "source": [
    "Answer:\n",
    "\n",
    "It makes sense that the time it takes to name the ink colors from the INCONGRUENT words is higher since we need to do additional post-processing to name the ink color that is not matched the color we see.\n",
    "\n",
    "A similar experiment that would result in a similar effect could be to ask the control group to raise a flag on a direction that they hear, e.g. Left->Left, Right->Right, Up->Up, Down->Down, and the experimental group to raise a flag on an opposite direction that they hear, e.g. Left->Right, Right->Left, Up->Down, Down->Up."
   ]
  },
  {
   "cell_type": "code",
   "execution_count": null,
   "metadata": {},
   "outputs": [],
   "source": []
  }
 ],
 "metadata": {
  "kernelspec": {
   "display_name": "Python 3",
   "language": "python",
   "name": "python3"
  },
  "language_info": {
   "codemirror_mode": {
    "name": "ipython",
    "version": 3
   },
   "file_extension": ".py",
   "mimetype": "text/x-python",
   "name": "python",
   "nbconvert_exporter": "python",
   "pygments_lexer": "ipython3",
   "version": "3.6.3"
  }
 },
 "nbformat": 4,
 "nbformat_minor": 2
}
